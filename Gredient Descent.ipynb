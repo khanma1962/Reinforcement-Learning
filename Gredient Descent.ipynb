{
 "cells": [
  {
   "cell_type": "code",
   "execution_count": 1,
   "metadata": {},
   "outputs": [],
   "source": [
    "import numpy as np\n",
    "import matplotlib.pyplot as plt\n",
    "plt.style.use('fivethirtyeight')\n",
    "\n",
    "SIZE = 100\n",
    "SCALE = 0.5\n",
    "\n",
    "class Gradient_descent:\n",
    "    def __init__(self, learning_rate = 0.01, iterations = 1000):\n",
    "        self.learning_rate = learning_rate\n",
    "        self.iterations = iterations\n",
    "\n",
    "    def fit(self, X, y):\n",
    "        b = 0\n",
    "        m = 5\n",
    "        print(f\"shape of X is {X.shape}\")\n",
    "        n = X.shape[0]\n",
    "        for _ in range(self.iterations):\n",
    "            ### MSE = (1/n) * sigma (y - (mx + b))^2\n",
    "            cost_function = (1/n) * np.sum(y - ( m * X + b))\n",
    "\n",
    "            ### d(MSE)/dm = (2/n) * sigma (y - (mx + b)) * (-x)\n",
    "            ### d(MSE)/db = (2/n) * sigma (y - (mx + b)) * (-1)\n",
    "            m_gradient = -2 * np.sum(X * (y - (m * X + b))) / n\n",
    "            b_gradient = -2 * np.sum(y - (m * X + b)) / n\n",
    "\n",
    "            m = m - (self.learning_rate * m_gradient)\n",
    "            b = b - (self.learning_rate * b_gradient)\n",
    "\n",
    "            self.m = m\n",
    "            self.b = b\n",
    "\n",
    "        # return self.m, self.b\n",
    "\n",
    "    def predict(self, X):\n",
    "        return self.m * X + self.b\n",
    "\n"
   ]
  },
  {
   "cell_type": "code",
   "execution_count": 2,
   "metadata": {},
   "outputs": [
    {
     "name": "stdout",
     "output_type": "stream",
     "text": [
      "[ 0.24835708 -0.06913215  0.32384427  0.76151493 -0.11707669 -0.11706848\n",
      "  0.78960641  0.38371736 -0.23473719]\n",
      "[-0.35384269 -0.10516133 -0.08567863 -0.20056932 -0.04032143  0.10101271\n",
      "  0.47154648  0.04364445  0.0643876 ]\n"
     ]
    }
   ],
   "source": [
    "\n",
    "\n",
    "def generate_data(size, scale):\n",
    "    np.random.seed(42)\n",
    "    X =   np.array(sorted(list(range(int(size / 20))) * 20)) + np.random.normal(size = size, scale = scale)\n",
    "    y =   np.array(sorted(list(range(int(size / 20))) * 20)) + np.random.normal(size = size, scale = scale * 0.5)\n",
    "    return X, y\n",
    "\n",
    "X, y = generate_data(SIZE, SCALE)\n",
    "print(X[:9])\n",
    "print(y[:9])"
   ]
  },
  {
   "cell_type": "code",
   "execution_count": 3,
   "metadata": {},
   "outputs": [],
   "source": [
    "# X = np.array(sorted(list(range(5))*20)) + np.random.normal(size=100, scale=0.5)\n",
    "# y = np.array(sorted(list(range(5))*20)) + np.random.normal(size=100, scale=0.25)"
   ]
  },
  {
   "cell_type": "code",
   "execution_count": 4,
   "metadata": {},
   "outputs": [
    {
     "name": "stdout",
     "output_type": "stream",
     "text": [
      "shape of X is (100,)\n",
      "model parameters are 0.8818268579385155, 0.28716622513970586\n"
     ]
    }
   ],
   "source": [
    "reg_model = Gradient_descent(learning_rate = 0.01, iterations = 1000)\n",
    "reg_model.fit(X, y)\n",
    "\n",
    "print(f\"model parameters are {reg_model.m}, {reg_model.b}\")"
   ]
  },
  {
   "cell_type": "code",
   "execution_count": null,
   "metadata": {},
   "outputs": [],
   "source": []
  },
  {
   "cell_type": "code",
   "execution_count": 5,
   "metadata": {},
   "outputs": [
    {
     "data": {
      "text/plain": [
       "Text(0.5, 1.0, 'Gradient Descent Linear Regressor')"
      ]
     },
     "execution_count": 5,
     "metadata": {},
     "output_type": "execute_result"
    },
    {
     "data": {
      "image/png": "[encoded data removed]",
      "text/plain": [
       "<Figure size 432x288 with 1 Axes>"
      ]
     },
     "metadata": {
      "needs_background": "light"
     },
     "output_type": "display_data"
    }
   ],
   "source": [
    "plt.scatter(X, y, color = 'black')\n",
    "plt.plot(X, reg_model.predict(X))\n",
    "plt.gca().set_title(\"Gradient Descent Linear Regressor\")\n",
    "\n",
    "# plt.show()"
   ]
  },
  {
   "cell_type": "code",
   "execution_count": null,
   "metadata": {},
   "outputs": [],
   "source": []
  },
  {
   "cell_type": "code",
   "execution_count": null,
   "metadata": {},
   "outputs": [],
   "source": []
  },
  {
   "cell_type": "code",
   "execution_count": null,
   "metadata": {},
   "outputs": [],
   "source": []
  },
  {
   "cell_type": "code",
   "execution_count": null,
   "metadata": {},
   "outputs": [],
   "source": []
  }
 ],
 "metadata": {
  "kernelspec": {
   "display_name": "Python 3.7.13 ('RL37')",
   "language": "python",
   "name": "python3"
  },
  "language_info": {
   "codemirror_mode": {
    "name": "ipython",
    "version": 3
   },
   "file_extension": ".py",
   "mimetype": "text/x-python",
   "name": "python",
   "nbconvert_exporter": "python",
   "pygments_lexer": "ipython3",
   "version": "3.7.13"
  },
  "orig_nbformat": 4,
  "vscode": {
   "interpreter": {
    "hash": "d6068d5490723df22119dbb6b6a50dd9691d6b9627228a557cf23134a8ed7c54"
   }
  }
 },
 "nbformat": 4,
 "nbformat_minor": 2
}
